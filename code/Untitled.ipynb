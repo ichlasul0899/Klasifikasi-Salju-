{
 "cells": [
  {
   "cell_type": "markdown",
   "metadata": {},
   "source": [
    "# **TUBES MACHINE LEARNING**\n",
    "\n",
    "Contributor\n",
    " * **ICHLASUL AMAL**\n",
    " * **RIZKYTA SHAINY ANGELINE** \n",
    " \n",
    " ***\n",
    " \n",
    " **Formulasi Masalah:** Membuat pemodelan untuk memprediksi label dari data. Pada dataset ini, tujuannya adalah memprediksi apakah keesokan harinya akan bersalju atau tidak."
   ]
  },
  {
   "cell_type": "markdown",
   "metadata": {},
   "source": [
    "## Preparation"
   ]
  },
  {
   "cell_type": "code",
   "execution_count": 1,
   "metadata": {},
   "outputs": [
    {
     "name": "stdout",
     "output_type": "stream",
     "text": [
      "Info All Package version!\n",
      "Pandas Version : 0.25.1\n",
      "Numpy Version : 1.16.5\n",
      "Seaborn Version : 0.9.0\n"
     ]
    }
   ],
   "source": [
    "# Import All Package\n",
    "import os\n",
    "import pandas as pd\n",
    "import numpy as np\n",
    "import seaborn as sns\n",
    "import matplotlib.pyplot as plt\n",
    "\n",
    "\n",
    "# Show Info\n",
    "print('Info All Package version!')\n",
    "print('Pandas Version : {}'.format(pd.__version__))\n",
    "print('Numpy Version : {}'.format(np.__version__))\n",
    "print('Seaborn Version : {}'.format(sns.__version__))"
   ]
  },
  {
   "cell_type": "code",
   "execution_count": 2,
   "metadata": {},
   "outputs": [
    {
     "name": "stdout",
     "output_type": "stream",
     "text": [
      "Datasets :\n"
     ]
    },
    {
     "ename": "NameError",
     "evalue": "name 'x' is not defined",
     "output_type": "error",
     "traceback": [
      "\u001b[1;31m---------------------------------------------------------------------------\u001b[0m",
      "\u001b[1;31mNameError\u001b[0m                                 Traceback (most recent call last)",
      "\u001b[1;32m<ipython-input-2-e1450aa8a342>\u001b[0m in \u001b[0;36m<module>\u001b[1;34m\u001b[0m\n\u001b[0;32m      7\u001b[0m         \u001b[1;32mif\u001b[0m \u001b[0mdataset\u001b[0m\u001b[1;33m[\u001b[0m\u001b[1;33m:\u001b[0m\u001b[1;36m5\u001b[0m\u001b[1;33m]\u001b[0m \u001b[1;33m==\u001b[0m \u001b[1;34m'salju'\u001b[0m\u001b[1;33m:\u001b[0m\u001b[1;33m\u001b[0m\u001b[1;33m\u001b[0m\u001b[0m\n\u001b[0;32m      8\u001b[0m             \u001b[0mdatasetSalju\u001b[0m \u001b[1;33m=\u001b[0m \u001b[1;32mTrue\u001b[0m\u001b[1;33m\u001b[0m\u001b[1;33m\u001b[0m\u001b[0m\n\u001b[1;32m----> 9\u001b[1;33m         \u001b[0mprint\u001b[0m\u001b[1;33m(\u001b[0m\u001b[1;34m'\\t'\u001b[0m\u001b[1;33m,\u001b[0m\u001b[0mx\u001b[0m\u001b[1;33m)\u001b[0m\u001b[1;33m\u001b[0m\u001b[1;33m\u001b[0m\u001b[0m\n\u001b[0m\u001b[0;32m     10\u001b[0m \u001b[1;32mif\u001b[0m \u001b[0mdatasetSalju\u001b[0m \u001b[1;33m:\u001b[0m\u001b[1;33m\u001b[0m\u001b[1;33m\u001b[0m\u001b[0m\n\u001b[0;32m     11\u001b[0m     \u001b[0mprint\u001b[0m\u001b[1;33m(\u001b[0m\u001b[1;34m'\\nDataset Salju Available'\u001b[0m\u001b[1;33m)\u001b[0m\u001b[1;33m\u001b[0m\u001b[1;33m\u001b[0m\u001b[0m\n",
      "\u001b[1;31mNameError\u001b[0m: name 'x' is not defined"
     ]
    }
   ],
   "source": [
    "#Check Dataset\n",
    "print('Datasets :')\n",
    "datasetSalju = False\n",
    "datasets = os.listdir('../datasets/')\n",
    "for dataset in datasets:\n",
    "    if dataset[-3:] == 'csv':\n",
    "        if dataset[:5] == 'salju':\n",
    "            datasetSalju = True\n",
    "        print('\\t',x)\n",
    "if datasetSalju :\n",
    "    print('\\nDataset Salju Available')\n",
    "else :\n",
    "    print('Dataset Salju Not Available')"
   ]
  },
  {
   "cell_type": "markdown",
   "metadata": {},
   "source": [
    "## Start to code!"
   ]
  },
  {
   "cell_type": "code",
   "execution_count": 3,
   "metadata": {},
   "outputs": [
    {
     "name": "stdout",
     "output_type": "stream",
     "text": [
      "Jumlah data train salju : (109095, 24)\n",
      "Jumlah data test salju : (18182, 23)\n"
     ]
    }
   ],
   "source": [
    "#Read Dataset\n",
    "data_train_salju = pd.read_csv('../datasets/salju_train.csv')\n",
    "data_test_salju = pd.read_csv('../datasets/salju_test.csv')\n",
    "print(\"Jumlah data train salju : {}\".format(data_train_salju.shape))\n",
    "print(\"Jumlah data test salju : {}\".format(data_test_salju.shape))"
   ]
  },
  {
   "cell_type": "markdown",
   "metadata": {},
   "source": [
    "### Data Exploration & Preparation"
   ]
  },
  {
   "cell_type": "code",
   "execution_count": 4,
   "metadata": {},
   "outputs": [
    {
     "name": "stdout",
     "output_type": "stream",
     "text": [
      "<class 'pandas.core.frame.DataFrame'>\n",
      "RangeIndex: 109095 entries, 0 to 109094\n",
      "Data columns (total 24 columns):\n",
      "id                          109095 non-null int64\n",
      "Tanggal                     109095 non-null object\n",
      "KodeLokasi                  109095 non-null object\n",
      "SuhuMin                     107973 non-null float64\n",
      "SuhuMax                     108166 non-null float64\n",
      "Hujan                       106664 non-null float64\n",
      "Penguapan                   62071 non-null float64\n",
      "SinarMatahari               56716 non-null float64\n",
      "ArahAnginTerkencang         101351 non-null object\n",
      "KecepatanAnginTerkencang    101399 non-null float64\n",
      "ArahAngin9am                101172 non-null object\n",
      "ArahAngin3pm                105898 non-null object\n",
      "KecepatanAngin9am           107742 non-null float64\n",
      "KecepatanAngin3pm           106792 non-null float64\n",
      "Kelembaban9am               107093 non-null float64\n",
      "Kelembaban3pm               105721 non-null float64\n",
      "Tekanan9am                  97768 non-null float64\n",
      "Tekanan3pm                  97787 non-null float64\n",
      "Awan9am                     67251 non-null float64\n",
      "Awan3pm                     64624 non-null float64\n",
      "Suhu9am                     107755 non-null float64\n",
      "Suhu3pm                     106397 non-null float64\n",
      "BersaljuHariIni             106664 non-null object\n",
      "BersaljuBesok               106664 non-null object\n",
      "dtypes: float64(16), int64(1), object(7)\n",
      "memory usage: 20.0+ MB\n"
     ]
    }
   ],
   "source": [
    "data_train_salju.info()"
   ]
  },
  {
   "cell_type": "code",
   "execution_count": 5,
   "metadata": {
    "scrolled": true
   },
   "outputs": [
    {
     "data": {
      "text/html": [
       "<div>\n",
       "<style scoped>\n",
       "    .dataframe tbody tr th:only-of-type {\n",
       "        vertical-align: middle;\n",
       "    }\n",
       "\n",
       "    .dataframe tbody tr th {\n",
       "        vertical-align: top;\n",
       "    }\n",
       "\n",
       "    .dataframe thead th {\n",
       "        text-align: right;\n",
       "    }\n",
       "</style>\n",
       "<table border=\"1\" class=\"dataframe\">\n",
       "  <thead>\n",
       "    <tr style=\"text-align: right;\">\n",
       "      <th></th>\n",
       "      <th>count</th>\n",
       "      <th>unique</th>\n",
       "      <th>top</th>\n",
       "      <th>freq</th>\n",
       "      <th>mean</th>\n",
       "      <th>std</th>\n",
       "      <th>min</th>\n",
       "      <th>25%</th>\n",
       "      <th>50%</th>\n",
       "      <th>75%</th>\n",
       "      <th>max</th>\n",
       "    </tr>\n",
       "  </thead>\n",
       "  <tbody>\n",
       "    <tr>\n",
       "      <td>id</td>\n",
       "      <td>109095</td>\n",
       "      <td>NaN</td>\n",
       "      <td>NaN</td>\n",
       "      <td>NaN</td>\n",
       "      <td>54548</td>\n",
       "      <td>31493.2</td>\n",
       "      <td>1</td>\n",
       "      <td>27274.5</td>\n",
       "      <td>54548</td>\n",
       "      <td>81821.5</td>\n",
       "      <td>109095</td>\n",
       "    </tr>\n",
       "    <tr>\n",
       "      <td>Tanggal</td>\n",
       "      <td>109095</td>\n",
       "      <td>3414</td>\n",
       "      <td>15/08/2014</td>\n",
       "      <td>45</td>\n",
       "      <td>NaN</td>\n",
       "      <td>NaN</td>\n",
       "      <td>NaN</td>\n",
       "      <td>NaN</td>\n",
       "      <td>NaN</td>\n",
       "      <td>NaN</td>\n",
       "      <td>NaN</td>\n",
       "    </tr>\n",
       "    <tr>\n",
       "      <td>KodeLokasi</td>\n",
       "      <td>109095</td>\n",
       "      <td>49</td>\n",
       "      <td>C1</td>\n",
       "      <td>2598</td>\n",
       "      <td>NaN</td>\n",
       "      <td>NaN</td>\n",
       "      <td>NaN</td>\n",
       "      <td>NaN</td>\n",
       "      <td>NaN</td>\n",
       "      <td>NaN</td>\n",
       "      <td>NaN</td>\n",
       "    </tr>\n",
       "    <tr>\n",
       "      <td>SuhuMin</td>\n",
       "      <td>107973</td>\n",
       "      <td>NaN</td>\n",
       "      <td>NaN</td>\n",
       "      <td>NaN</td>\n",
       "      <td>12.1962</td>\n",
       "      <td>6.38942</td>\n",
       "      <td>-8.5</td>\n",
       "      <td>7.6</td>\n",
       "      <td>12</td>\n",
       "      <td>16.8</td>\n",
       "      <td>33.9</td>\n",
       "    </tr>\n",
       "    <tr>\n",
       "      <td>SuhuMax</td>\n",
       "      <td>108166</td>\n",
       "      <td>NaN</td>\n",
       "      <td>NaN</td>\n",
       "      <td>NaN</td>\n",
       "      <td>23.2148</td>\n",
       "      <td>7.1066</td>\n",
       "      <td>-4.8</td>\n",
       "      <td>17.9</td>\n",
       "      <td>22.6</td>\n",
       "      <td>28.2</td>\n",
       "      <td>47.3</td>\n",
       "    </tr>\n",
       "    <tr>\n",
       "      <td>Hujan</td>\n",
       "      <td>106664</td>\n",
       "      <td>NaN</td>\n",
       "      <td>NaN</td>\n",
       "      <td>NaN</td>\n",
       "      <td>2.38501</td>\n",
       "      <td>8.58815</td>\n",
       "      <td>0</td>\n",
       "      <td>0</td>\n",
       "      <td>0</td>\n",
       "      <td>0.8</td>\n",
       "      <td>371</td>\n",
       "    </tr>\n",
       "    <tr>\n",
       "      <td>Penguapan</td>\n",
       "      <td>62071</td>\n",
       "      <td>NaN</td>\n",
       "      <td>NaN</td>\n",
       "      <td>NaN</td>\n",
       "      <td>5.46244</td>\n",
       "      <td>4.20164</td>\n",
       "      <td>0</td>\n",
       "      <td>2.6</td>\n",
       "      <td>4.8</td>\n",
       "      <td>7.4</td>\n",
       "      <td>145</td>\n",
       "    </tr>\n",
       "    <tr>\n",
       "      <td>SinarMatahari</td>\n",
       "      <td>56716</td>\n",
       "      <td>NaN</td>\n",
       "      <td>NaN</td>\n",
       "      <td>NaN</td>\n",
       "      <td>7.59953</td>\n",
       "      <td>3.78904</td>\n",
       "      <td>0</td>\n",
       "      <td>4.8</td>\n",
       "      <td>8.4</td>\n",
       "      <td>10.6</td>\n",
       "      <td>14.3</td>\n",
       "    </tr>\n",
       "    <tr>\n",
       "      <td>ArahAnginTerkencang</td>\n",
       "      <td>101351</td>\n",
       "      <td>16</td>\n",
       "      <td>W</td>\n",
       "      <td>7491</td>\n",
       "      <td>NaN</td>\n",
       "      <td>NaN</td>\n",
       "      <td>NaN</td>\n",
       "      <td>NaN</td>\n",
       "      <td>NaN</td>\n",
       "      <td>NaN</td>\n",
       "      <td>NaN</td>\n",
       "    </tr>\n",
       "    <tr>\n",
       "      <td>KecepatanAnginTerkencang</td>\n",
       "      <td>101399</td>\n",
       "      <td>NaN</td>\n",
       "      <td>NaN</td>\n",
       "      <td>NaN</td>\n",
       "      <td>40.032</td>\n",
       "      <td>13.6176</td>\n",
       "      <td>7</td>\n",
       "      <td>31</td>\n",
       "      <td>39</td>\n",
       "      <td>48</td>\n",
       "      <td>135</td>\n",
       "    </tr>\n",
       "    <tr>\n",
       "      <td>ArahAngin9am</td>\n",
       "      <td>101172</td>\n",
       "      <td>16</td>\n",
       "      <td>N</td>\n",
       "      <td>8820</td>\n",
       "      <td>NaN</td>\n",
       "      <td>NaN</td>\n",
       "      <td>NaN</td>\n",
       "      <td>NaN</td>\n",
       "      <td>NaN</td>\n",
       "      <td>NaN</td>\n",
       "      <td>NaN</td>\n",
       "    </tr>\n",
       "    <tr>\n",
       "      <td>ArahAngin3pm</td>\n",
       "      <td>105898</td>\n",
       "      <td>16</td>\n",
       "      <td>SE</td>\n",
       "      <td>8204</td>\n",
       "      <td>NaN</td>\n",
       "      <td>NaN</td>\n",
       "      <td>NaN</td>\n",
       "      <td>NaN</td>\n",
       "      <td>NaN</td>\n",
       "      <td>NaN</td>\n",
       "      <td>NaN</td>\n",
       "    </tr>\n",
       "    <tr>\n",
       "      <td>KecepatanAngin9am</td>\n",
       "      <td>107742</td>\n",
       "      <td>NaN</td>\n",
       "      <td>NaN</td>\n",
       "      <td>NaN</td>\n",
       "      <td>14.0521</td>\n",
       "      <td>8.92609</td>\n",
       "      <td>0</td>\n",
       "      <td>7</td>\n",
       "      <td>13</td>\n",
       "      <td>19</td>\n",
       "      <td>130</td>\n",
       "    </tr>\n",
       "    <tr>\n",
       "      <td>KecepatanAngin3pm</td>\n",
       "      <td>106792</td>\n",
       "      <td>NaN</td>\n",
       "      <td>NaN</td>\n",
       "      <td>NaN</td>\n",
       "      <td>18.6776</td>\n",
       "      <td>8.8302</td>\n",
       "      <td>0</td>\n",
       "      <td>13</td>\n",
       "      <td>19</td>\n",
       "      <td>24</td>\n",
       "      <td>87</td>\n",
       "    </tr>\n",
       "    <tr>\n",
       "      <td>Kelembaban9am</td>\n",
       "      <td>107093</td>\n",
       "      <td>NaN</td>\n",
       "      <td>NaN</td>\n",
       "      <td>NaN</td>\n",
       "      <td>68.8956</td>\n",
       "      <td>18.9955</td>\n",
       "      <td>0</td>\n",
       "      <td>57</td>\n",
       "      <td>70</td>\n",
       "      <td>83</td>\n",
       "      <td>100</td>\n",
       "    </tr>\n",
       "    <tr>\n",
       "      <td>Kelembaban3pm</td>\n",
       "      <td>105721</td>\n",
       "      <td>NaN</td>\n",
       "      <td>NaN</td>\n",
       "      <td>NaN</td>\n",
       "      <td>51.5676</td>\n",
       "      <td>20.7916</td>\n",
       "      <td>0</td>\n",
       "      <td>37</td>\n",
       "      <td>52</td>\n",
       "      <td>66</td>\n",
       "      <td>100</td>\n",
       "    </tr>\n",
       "    <tr>\n",
       "      <td>Tekanan9am</td>\n",
       "      <td>97768</td>\n",
       "      <td>NaN</td>\n",
       "      <td>NaN</td>\n",
       "      <td>NaN</td>\n",
       "      <td>1017.65</td>\n",
       "      <td>7.11734</td>\n",
       "      <td>980.5</td>\n",
       "      <td>1012.9</td>\n",
       "      <td>1017.6</td>\n",
       "      <td>1022.4</td>\n",
       "      <td>1041</td>\n",
       "    </tr>\n",
       "    <tr>\n",
       "      <td>Tekanan3pm</td>\n",
       "      <td>97787</td>\n",
       "      <td>NaN</td>\n",
       "      <td>NaN</td>\n",
       "      <td>NaN</td>\n",
       "      <td>1015.25</td>\n",
       "      <td>7.04787</td>\n",
       "      <td>977.1</td>\n",
       "      <td>1010.4</td>\n",
       "      <td>1015.2</td>\n",
       "      <td>1020</td>\n",
       "      <td>1039.6</td>\n",
       "    </tr>\n",
       "    <tr>\n",
       "      <td>Awan9am</td>\n",
       "      <td>67251</td>\n",
       "      <td>NaN</td>\n",
       "      <td>NaN</td>\n",
       "      <td>NaN</td>\n",
       "      <td>4.45089</td>\n",
       "      <td>2.88457</td>\n",
       "      <td>0</td>\n",
       "      <td>1</td>\n",
       "      <td>5</td>\n",
       "      <td>7</td>\n",
       "      <td>9</td>\n",
       "    </tr>\n",
       "    <tr>\n",
       "      <td>Awan3pm</td>\n",
       "      <td>64624</td>\n",
       "      <td>NaN</td>\n",
       "      <td>NaN</td>\n",
       "      <td>NaN</td>\n",
       "      <td>4.51614</td>\n",
       "      <td>2.71874</td>\n",
       "      <td>0</td>\n",
       "      <td>2</td>\n",
       "      <td>5</td>\n",
       "      <td>7</td>\n",
       "      <td>9</td>\n",
       "    </tr>\n",
       "    <tr>\n",
       "      <td>Suhu9am</td>\n",
       "      <td>107755</td>\n",
       "      <td>NaN</td>\n",
       "      <td>NaN</td>\n",
       "      <td>NaN</td>\n",
       "      <td>16.9914</td>\n",
       "      <td>6.4776</td>\n",
       "      <td>-7.2</td>\n",
       "      <td>12.3</td>\n",
       "      <td>16.7</td>\n",
       "      <td>21.6</td>\n",
       "      <td>40.2</td>\n",
       "    </tr>\n",
       "    <tr>\n",
       "      <td>Suhu3pm</td>\n",
       "      <td>106397</td>\n",
       "      <td>NaN</td>\n",
       "      <td>NaN</td>\n",
       "      <td>NaN</td>\n",
       "      <td>21.6728</td>\n",
       "      <td>6.92283</td>\n",
       "      <td>-5.4</td>\n",
       "      <td>16.6</td>\n",
       "      <td>21.1</td>\n",
       "      <td>26.4</td>\n",
       "      <td>46.7</td>\n",
       "    </tr>\n",
       "    <tr>\n",
       "      <td>BersaljuHariIni</td>\n",
       "      <td>106664</td>\n",
       "      <td>2</td>\n",
       "      <td>Tidak</td>\n",
       "      <td>82670</td>\n",
       "      <td>NaN</td>\n",
       "      <td>NaN</td>\n",
       "      <td>NaN</td>\n",
       "      <td>NaN</td>\n",
       "      <td>NaN</td>\n",
       "      <td>NaN</td>\n",
       "      <td>NaN</td>\n",
       "    </tr>\n",
       "    <tr>\n",
       "      <td>BersaljuBesok</td>\n",
       "      <td>106664</td>\n",
       "      <td>2</td>\n",
       "      <td>Tidak</td>\n",
       "      <td>82701</td>\n",
       "      <td>NaN</td>\n",
       "      <td>NaN</td>\n",
       "      <td>NaN</td>\n",
       "      <td>NaN</td>\n",
       "      <td>NaN</td>\n",
       "      <td>NaN</td>\n",
       "      <td>NaN</td>\n",
       "    </tr>\n",
       "  </tbody>\n",
       "</table>\n",
       "</div>"
      ],
      "text/plain": [
       "                           count unique         top   freq     mean      std  \\\n",
       "id                        109095    NaN         NaN    NaN    54548  31493.2   \n",
       "Tanggal                   109095   3414  15/08/2014     45      NaN      NaN   \n",
       "KodeLokasi                109095     49          C1   2598      NaN      NaN   \n",
       "SuhuMin                   107973    NaN         NaN    NaN  12.1962  6.38942   \n",
       "SuhuMax                   108166    NaN         NaN    NaN  23.2148   7.1066   \n",
       "Hujan                     106664    NaN         NaN    NaN  2.38501  8.58815   \n",
       "Penguapan                  62071    NaN         NaN    NaN  5.46244  4.20164   \n",
       "SinarMatahari              56716    NaN         NaN    NaN  7.59953  3.78904   \n",
       "ArahAnginTerkencang       101351     16           W   7491      NaN      NaN   \n",
       "KecepatanAnginTerkencang  101399    NaN         NaN    NaN   40.032  13.6176   \n",
       "ArahAngin9am              101172     16           N   8820      NaN      NaN   \n",
       "ArahAngin3pm              105898     16          SE   8204      NaN      NaN   \n",
       "KecepatanAngin9am         107742    NaN         NaN    NaN  14.0521  8.92609   \n",
       "KecepatanAngin3pm         106792    NaN         NaN    NaN  18.6776   8.8302   \n",
       "Kelembaban9am             107093    NaN         NaN    NaN  68.8956  18.9955   \n",
       "Kelembaban3pm             105721    NaN         NaN    NaN  51.5676  20.7916   \n",
       "Tekanan9am                 97768    NaN         NaN    NaN  1017.65  7.11734   \n",
       "Tekanan3pm                 97787    NaN         NaN    NaN  1015.25  7.04787   \n",
       "Awan9am                    67251    NaN         NaN    NaN  4.45089  2.88457   \n",
       "Awan3pm                    64624    NaN         NaN    NaN  4.51614  2.71874   \n",
       "Suhu9am                   107755    NaN         NaN    NaN  16.9914   6.4776   \n",
       "Suhu3pm                   106397    NaN         NaN    NaN  21.6728  6.92283   \n",
       "BersaljuHariIni           106664      2       Tidak  82670      NaN      NaN   \n",
       "BersaljuBesok             106664      2       Tidak  82701      NaN      NaN   \n",
       "\n",
       "                            min      25%     50%      75%     max  \n",
       "id                            1  27274.5   54548  81821.5  109095  \n",
       "Tanggal                     NaN      NaN     NaN      NaN     NaN  \n",
       "KodeLokasi                  NaN      NaN     NaN      NaN     NaN  \n",
       "SuhuMin                    -8.5      7.6      12     16.8    33.9  \n",
       "SuhuMax                    -4.8     17.9    22.6     28.2    47.3  \n",
       "Hujan                         0        0       0      0.8     371  \n",
       "Penguapan                     0      2.6     4.8      7.4     145  \n",
       "SinarMatahari                 0      4.8     8.4     10.6    14.3  \n",
       "ArahAnginTerkencang         NaN      NaN     NaN      NaN     NaN  \n",
       "KecepatanAnginTerkencang      7       31      39       48     135  \n",
       "ArahAngin9am                NaN      NaN     NaN      NaN     NaN  \n",
       "ArahAngin3pm                NaN      NaN     NaN      NaN     NaN  \n",
       "KecepatanAngin9am             0        7      13       19     130  \n",
       "KecepatanAngin3pm             0       13      19       24      87  \n",
       "Kelembaban9am                 0       57      70       83     100  \n",
       "Kelembaban3pm                 0       37      52       66     100  \n",
       "Tekanan9am                980.5   1012.9  1017.6   1022.4    1041  \n",
       "Tekanan3pm                977.1   1010.4  1015.2     1020  1039.6  \n",
       "Awan9am                       0        1       5        7       9  \n",
       "Awan3pm                       0        2       5        7       9  \n",
       "Suhu9am                    -7.2     12.3    16.7     21.6    40.2  \n",
       "Suhu3pm                    -5.4     16.6    21.1     26.4    46.7  \n",
       "BersaljuHariIni             NaN      NaN     NaN      NaN     NaN  \n",
       "BersaljuBesok               NaN      NaN     NaN      NaN     NaN  "
      ]
     },
     "execution_count": 5,
     "metadata": {},
     "output_type": "execute_result"
    }
   ],
   "source": [
    "data_train_salju.describe(include='all').T"
   ]
  },
  {
   "cell_type": "code",
   "execution_count": 6,
   "metadata": {},
   "outputs": [
    {
     "data": {
      "text/html": [
       "<div>\n",
       "<style scoped>\n",
       "    .dataframe tbody tr th:only-of-type {\n",
       "        vertical-align: middle;\n",
       "    }\n",
       "\n",
       "    .dataframe tbody tr th {\n",
       "        vertical-align: top;\n",
       "    }\n",
       "\n",
       "    .dataframe thead th {\n",
       "        text-align: right;\n",
       "    }\n",
       "</style>\n",
       "<table border=\"1\" class=\"dataframe\">\n",
       "  <thead>\n",
       "    <tr style=\"text-align: right;\">\n",
       "      <th></th>\n",
       "      <th>id</th>\n",
       "      <th>Tanggal</th>\n",
       "      <th>KodeLokasi</th>\n",
       "      <th>SuhuMin</th>\n",
       "      <th>SuhuMax</th>\n",
       "      <th>Hujan</th>\n",
       "      <th>Penguapan</th>\n",
       "      <th>SinarMatahari</th>\n",
       "      <th>ArahAnginTerkencang</th>\n",
       "      <th>KecepatanAnginTerkencang</th>\n",
       "      <th>...</th>\n",
       "      <th>Kelembaban9am</th>\n",
       "      <th>Kelembaban3pm</th>\n",
       "      <th>Tekanan9am</th>\n",
       "      <th>Tekanan3pm</th>\n",
       "      <th>Awan9am</th>\n",
       "      <th>Awan3pm</th>\n",
       "      <th>Suhu9am</th>\n",
       "      <th>Suhu3pm</th>\n",
       "      <th>BersaljuHariIni</th>\n",
       "      <th>BersaljuBesok</th>\n",
       "    </tr>\n",
       "  </thead>\n",
       "  <tbody>\n",
       "    <tr>\n",
       "      <td>0</td>\n",
       "      <td>1</td>\n",
       "      <td>01/06/2014</td>\n",
       "      <td>C4</td>\n",
       "      <td>10.4</td>\n",
       "      <td>15.5</td>\n",
       "      <td>4.8</td>\n",
       "      <td>NaN</td>\n",
       "      <td>NaN</td>\n",
       "      <td>WSW</td>\n",
       "      <td>24.0</td>\n",
       "      <td>...</td>\n",
       "      <td>78.0</td>\n",
       "      <td>76.0</td>\n",
       "      <td>1020.1</td>\n",
       "      <td>1018.5</td>\n",
       "      <td>NaN</td>\n",
       "      <td>NaN</td>\n",
       "      <td>13.1</td>\n",
       "      <td>15.0</td>\n",
       "      <td>1</td>\n",
       "      <td>0</td>\n",
       "    </tr>\n",
       "    <tr>\n",
       "      <td>1</td>\n",
       "      <td>2</td>\n",
       "      <td>15/07/2014</td>\n",
       "      <td>C10</td>\n",
       "      <td>9.0</td>\n",
       "      <td>17.0</td>\n",
       "      <td>8.0</td>\n",
       "      <td>2.6</td>\n",
       "      <td>7.4</td>\n",
       "      <td>NaN</td>\n",
       "      <td>NaN</td>\n",
       "      <td>...</td>\n",
       "      <td>80.0</td>\n",
       "      <td>61.0</td>\n",
       "      <td>1015.2</td>\n",
       "      <td>1014.6</td>\n",
       "      <td>7.0</td>\n",
       "      <td>5.0</td>\n",
       "      <td>11.9</td>\n",
       "      <td>15.5</td>\n",
       "      <td>1</td>\n",
       "      <td>1</td>\n",
       "    </tr>\n",
       "    <tr>\n",
       "      <td>2</td>\n",
       "      <td>3</td>\n",
       "      <td>16/02/2011</td>\n",
       "      <td>C46</td>\n",
       "      <td>18.2</td>\n",
       "      <td>32.0</td>\n",
       "      <td>0.0</td>\n",
       "      <td>NaN</td>\n",
       "      <td>NaN</td>\n",
       "      <td>ESE</td>\n",
       "      <td>44.0</td>\n",
       "      <td>...</td>\n",
       "      <td>62.0</td>\n",
       "      <td>42.0</td>\n",
       "      <td>NaN</td>\n",
       "      <td>NaN</td>\n",
       "      <td>NaN</td>\n",
       "      <td>NaN</td>\n",
       "      <td>23.8</td>\n",
       "      <td>29.6</td>\n",
       "      <td>0</td>\n",
       "      <td>0</td>\n",
       "    </tr>\n",
       "    <tr>\n",
       "      <td>3</td>\n",
       "      <td>4</td>\n",
       "      <td>08/08/2012</td>\n",
       "      <td>C36</td>\n",
       "      <td>7.3</td>\n",
       "      <td>24.5</td>\n",
       "      <td>0.0</td>\n",
       "      <td>8.4</td>\n",
       "      <td>10.4</td>\n",
       "      <td>SSW</td>\n",
       "      <td>54.0</td>\n",
       "      <td>...</td>\n",
       "      <td>25.0</td>\n",
       "      <td>17.0</td>\n",
       "      <td>1019.2</td>\n",
       "      <td>1016.9</td>\n",
       "      <td>1.0</td>\n",
       "      <td>7.0</td>\n",
       "      <td>15.3</td>\n",
       "      <td>23.2</td>\n",
       "      <td>0</td>\n",
       "      <td>0</td>\n",
       "    </tr>\n",
       "    <tr>\n",
       "      <td>4</td>\n",
       "      <td>5</td>\n",
       "      <td>29/10/2016</td>\n",
       "      <td>C7</td>\n",
       "      <td>5.9</td>\n",
       "      <td>20.3</td>\n",
       "      <td>0.0</td>\n",
       "      <td>3.6</td>\n",
       "      <td>12.6</td>\n",
       "      <td>N</td>\n",
       "      <td>37.0</td>\n",
       "      <td>...</td>\n",
       "      <td>55.0</td>\n",
       "      <td>48.0</td>\n",
       "      <td>1019.7</td>\n",
       "      <td>1014.7</td>\n",
       "      <td>2.0</td>\n",
       "      <td>6.0</td>\n",
       "      <td>12.4</td>\n",
       "      <td>18.1</td>\n",
       "      <td>0</td>\n",
       "      <td>0</td>\n",
       "    </tr>\n",
       "  </tbody>\n",
       "</table>\n",
       "<p>5 rows × 24 columns</p>\n",
       "</div>"
      ],
      "text/plain": [
       "   id     Tanggal KodeLokasi  SuhuMin  SuhuMax  Hujan  Penguapan  \\\n",
       "0   1  01/06/2014         C4     10.4     15.5    4.8        NaN   \n",
       "1   2  15/07/2014        C10      9.0     17.0    8.0        2.6   \n",
       "2   3  16/02/2011        C46     18.2     32.0    0.0        NaN   \n",
       "3   4  08/08/2012        C36      7.3     24.5    0.0        8.4   \n",
       "4   5  29/10/2016         C7      5.9     20.3    0.0        3.6   \n",
       "\n",
       "   SinarMatahari ArahAnginTerkencang  KecepatanAnginTerkencang  ...  \\\n",
       "0            NaN                 WSW                      24.0  ...   \n",
       "1            7.4                 NaN                       NaN  ...   \n",
       "2            NaN                 ESE                      44.0  ...   \n",
       "3           10.4                 SSW                      54.0  ...   \n",
       "4           12.6                   N                      37.0  ...   \n",
       "\n",
       "  Kelembaban9am Kelembaban3pm  Tekanan9am  Tekanan3pm  Awan9am  Awan3pm  \\\n",
       "0          78.0          76.0      1020.1      1018.5      NaN      NaN   \n",
       "1          80.0          61.0      1015.2      1014.6      7.0      5.0   \n",
       "2          62.0          42.0         NaN         NaN      NaN      NaN   \n",
       "3          25.0          17.0      1019.2      1016.9      1.0      7.0   \n",
       "4          55.0          48.0      1019.7      1014.7      2.0      6.0   \n",
       "\n",
       "   Suhu9am  Suhu3pm  BersaljuHariIni  BersaljuBesok  \n",
       "0     13.1     15.0                1              0  \n",
       "1     11.9     15.5                1              1  \n",
       "2     23.8     29.6                0              0  \n",
       "3     15.3     23.2                0              0  \n",
       "4     12.4     18.1                0              0  \n",
       "\n",
       "[5 rows x 24 columns]"
      ]
     },
     "execution_count": 6,
     "metadata": {},
     "output_type": "execute_result"
    }
   ],
   "source": [
    "# Encode data pada BersaljuBesok dan BersaljuHariIni\n",
    "data_train_salju['BersaljuBesok'] = (data_train_salju['BersaljuBesok'] == 'Ya').astype(int)\n",
    "data_train_salju['BersaljuHariIni'] = (data_train_salju['BersaljuHariIni'] == 'Ya').astype(int)\n",
    "data_train_salju.head()"
   ]
  },
  {
   "cell_type": "code",
   "execution_count": 7,
   "metadata": {},
   "outputs": [
    {
     "data": {
      "text/plain": [
       "id                          0.000000\n",
       "BersaljuHariIni             0.000000\n",
       "BersaljuBesok               0.000000\n",
       "KodeLokasi                  0.000000\n",
       "Tanggal                     0.000000\n",
       "SuhuMax                     0.008516\n",
       "SuhuMin                     0.010285\n",
       "Suhu9am                     0.012283\n",
       "KecepatanAngin9am           0.012402\n",
       "Kelembaban9am               0.018351\n",
       "KecepatanAngin3pm           0.021110\n",
       "Hujan                       0.022283\n",
       "Suhu3pm                     0.024731\n",
       "ArahAngin3pm                0.029305\n",
       "Kelembaban3pm               0.030927\n",
       "KecepatanAnginTerkencang    0.070544\n",
       "ArahAnginTerkencang         0.070984\n",
       "ArahAngin9am                0.072625\n",
       "Tekanan3pm                  0.103653\n",
       "Tekanan9am                  0.103827\n",
       "Awan9am                     0.383556\n",
       "Awan3pm                     0.407636\n",
       "Penguapan                   0.431037\n",
       "SinarMatahari               0.480123\n",
       "dtype: float64"
      ]
     },
     "execution_count": 7,
     "metadata": {},
     "output_type": "execute_result"
    }
   ],
   "source": [
    "# Cek persentase missing values pada setiap kolom\n",
    "missing_percentage = (data_train_salju.isnull().sum() / data_train_salju.isnull().count()).sort_values()\n",
    "missing_percentage"
   ]
  },
  {
   "cell_type": "code",
   "execution_count": 8,
   "metadata": {},
   "outputs": [
    {
     "data": {
      "text/plain": [
       "id                          0.002692\n",
       "Suhu9am                     0.026721\n",
       "SuhuMin                     0.081813\n",
       "KecepatanAngin3pm           0.088008\n",
       "KecepatanAngin9am           0.088646\n",
       "Penguapan                   0.118658\n",
       "SuhuMax                     0.158822\n",
       "Suhu3pm                     0.192587\n",
       "Tekanan3pm                  0.222901\n",
       "KecepatanAnginTerkencang    0.230203\n",
       "Hujan                       0.236878\n",
       "Tekanan9am                  0.242786\n",
       "Kelembaban9am               0.253510\n",
       "BersaljuHariIni             0.307602\n",
       "Awan9am                     0.316292\n",
       "Awan3pm                     0.376409\n",
       "Kelembaban3pm               0.441152\n",
       "SinarMatahari               0.444537\n",
       "BersaljuBesok               1.000000\n",
       "Name: BersaljuBesok, dtype: float64"
      ]
     },
     "execution_count": 8,
     "metadata": {},
     "output_type": "execute_result"
    }
   ],
   "source": [
    "# Mengecek korelasi antara kolom BersaljuBesok dengan kolom lainnya\n",
    "bersalju_corr = abs(data_train_salju.corr()['BersaljuBesok']).sort_values()\n",
    "bersalju_corr"
   ]
  },
  {
   "cell_type": "code",
   "execution_count": 9,
   "metadata": {},
   "outputs": [
    {
     "data": {
      "image/png": "[encoded data removed]",
      "text/plain": [
       "<Figure size 2160x1440 with 2 Axes>"
      ]
     },
     "metadata": {
      "needs_background": "light"
     },
     "output_type": "display_data"
    }
   ],
   "source": [
    "mask = np.triu(np.ones_like(data_train_salju.corr()))\n",
    "corr = data_train_salju.corr()\n",
    "fig = plt.figure(figsize=(30,20))\n",
    "r = sns.heatmap(corr, annot=True, mask=mask, cmap='Reds')"
   ]
  },
  {
   "cell_type": "code",
   "execution_count": null,
   "metadata": {},
   "outputs": [],
   "source": [
    "# Drop feature yang presentase missing values > 30%???"
   ]
  },
  {
   "cell_type": "code",
   "execution_count": 10,
   "metadata": {},
   "outputs": [
    {
     "data": {
      "text/plain": [
       "\"\\ndata_train_salju[['Kelembaban9am', 'Kelembaban3pm', 'Awan9am', 'Awan3pm']] = imputer_med.fit_transform(data_train_salju[['Kelembaban9am', 'Kelembaban3pm', 'Awan9am', 'Awan3pm']])\\ndata_train_salju[['SuhuMin', 'SuhuMax', 'Hujan', 'Penguapan', 'SinarMatahari', 'KecepatanAnginTerkencang', 'KecepatanAngin9am', 'KecepatanAngin3pm', 'Tekanan9am', 'Tekanan3pm', 'Suhu9am', 'Suhu3pm']] = imputer_mean.fit_transform(data_train_salju[['SuhuMin', 'SuhuMax', 'Hujan', 'Penguapan', 'SinarMatahari', 'KecepatanAnginTerkencang', 'KecepatanAngin9am', 'KecepatanAngin3pm', 'Tekanan9am', 'Tekanan3pm', 'Suhu9am', 'Suhu3pm']])\\ndata_train_salju['ArahAnginTerkencang','ArahAngin9am', 'ArahAngin3pm'] = imputer_mf.fit_transform(data_train_salju[['ArahAnginTerkencang','ArahAngin9am', 'ArahAngin3pm']])\\n\\n\""
      ]
     },
     "execution_count": 10,
     "metadata": {},
     "output_type": "execute_result"
    }
   ],
   "source": [
    "from sklearn.impute import SimpleImputer\n",
    "\n",
    "imputer_med = SimpleImputer(strategy='median')\n",
    "imputer_mean = SimpleImputer(strategy='mean')\n",
    "imputer_mf = SimpleImputer(strategy='most_frequent')\n",
    "'''\n",
    "data_train_salju[['Kelembaban9am', 'Kelembaban3pm', 'Awan9am', 'Awan3pm']] = imputer_med.fit_transform(data_train_salju[['Kelembaban9am', 'Kelembaban3pm', 'Awan9am', 'Awan3pm']])\n",
    "data_train_salju[['SuhuMin', 'SuhuMax', 'Hujan', 'Penguapan', 'SinarMatahari', 'KecepatanAnginTerkencang', 'KecepatanAngin9am', 'KecepatanAngin3pm', 'Tekanan9am', 'Tekanan3pm', 'Suhu9am', 'Suhu3pm']] = imputer_mean.fit_transform(data_train_salju[['SuhuMin', 'SuhuMax', 'Hujan', 'Penguapan', 'SinarMatahari', 'KecepatanAnginTerkencang', 'KecepatanAngin9am', 'KecepatanAngin3pm', 'Tekanan9am', 'Tekanan3pm', 'Suhu9am', 'Suhu3pm']])\n",
    "data_train_salju['ArahAnginTerkencang','ArahAngin9am', 'ArahAngin3pm'] = imputer_mf.fit_transform(data_train_salju[['ArahAnginTerkencang','ArahAngin9am', 'ArahAngin3pm']])\n",
    "\n",
    "'''\n",
    "#data_train_salju.isnull().sum()"
   ]
  },
  {
   "cell_type": "code",
   "execution_count": 11,
   "metadata": {},
   "outputs": [
    {
     "data": {
      "text/plain": [
       "id                             0\n",
       "Tanggal                        0\n",
       "KodeLokasi                     0\n",
       "SuhuMin                        0\n",
       "SuhuMax                        0\n",
       "Hujan                          0\n",
       "Penguapan                      0\n",
       "SinarMatahari                  0\n",
       "ArahAnginTerkencang         7744\n",
       "KecepatanAnginTerkencang       0\n",
       "ArahAngin9am                7923\n",
       "ArahAngin3pm                3197\n",
       "KecepatanAngin9am              0\n",
       "KecepatanAngin3pm              0\n",
       "Kelembaban9am                  0\n",
       "Kelembaban3pm                  0\n",
       "Tekanan9am                     0\n",
       "Tekanan3pm                     0\n",
       "Awan9am                        0\n",
       "Awan3pm                        0\n",
       "Suhu9am                        0\n",
       "Suhu3pm                        0\n",
       "BersaljuHariIni                0\n",
       "BersaljuBesok                  0\n",
       "dtype: int64"
      ]
     },
     "execution_count": 11,
     "metadata": {},
     "output_type": "execute_result"
    }
   ],
   "source": [
    "# Handling missing values dengan memberi nilai median dan rata-rata pada baris yang memiliki nilai null\n",
    "data_train_salju['SuhuMin'].fillna(data_train_salju['SuhuMin'].mean(), inplace=True)\n",
    "data_train_salju['SuhuMax'].fillna(data_train_salju['SuhuMax'].mean(), inplace=True)\n",
    "data_train_salju['Hujan'].fillna(data_train_salju['Hujan'].mean(), inplace=True)\n",
    "data_train_salju['Penguapan'].fillna(data_train_salju['Penguapan'].mean(), inplace=True)\n",
    "data_train_salju['SinarMatahari'].fillna(data_train_salju['SinarMatahari'].mean(), inplace=True)\n",
    "data_train_salju['KecepatanAnginTerkencang'].fillna(data_train_salju['KecepatanAnginTerkencang'].mean(), inplace=True)\n",
    "data_train_salju['KecepatanAngin9am'].fillna(data_train_salju['KecepatanAngin9am'].mean(), inplace=True)\n",
    "data_train_salju['KecepatanAngin3pm'].fillna(data_train_salju['KecepatanAngin3pm'].mean(), inplace=True)\n",
    "data_train_salju['Kelembaban9am'].fillna(data_train_salju['Kelembaban9am'].median(), inplace=True)\n",
    "data_train_salju['Kelembaban3pm'].fillna(data_train_salju['Kelembaban3pm'].median(), inplace=True)\n",
    "data_train_salju['Tekanan9am'].fillna(data_train_salju['Tekanan9am'].mean(), inplace=True)\n",
    "data_train_salju['Tekanan3pm'].fillna(data_train_salju['Tekanan3pm'].mean(), inplace=True)\n",
    "data_train_salju['Awan9am'].fillna(data_train_salju['Awan9am'].median(), inplace=True)\n",
    "data_train_salju['Awan3pm'].fillna(data_train_salju['Awan3pm'].median(), inplace=True)\n",
    "data_train_salju['Suhu9am'].fillna(data_train_salju['Suhu9am'].mean(), inplace=True)\n",
    "data_train_salju['Suhu3pm'].fillna(data_train_salju['Suhu3pm'].mean(), inplace=True)\n",
    "data_train_salju.isnull().sum()"
   ]
  },
  {
   "cell_type": "code",
   "execution_count": 12,
   "metadata": {},
   "outputs": [
    {
     "name": "stdout",
     "output_type": "stream",
     "text": [
      "<class 'pandas.core.frame.DataFrame'>\n",
      "RangeIndex: 109095 entries, 0 to 109094\n",
      "Data columns (total 21 columns):\n",
      "SuhuMin                     109095 non-null float64\n",
      "SuhuMax                     109095 non-null float64\n",
      "Hujan                       109095 non-null float64\n",
      "Penguapan                   109095 non-null float64\n",
      "SinarMatahari               109095 non-null float64\n",
      "ArahAnginTerkencang         101351 non-null object\n",
      "KecepatanAnginTerkencang    109095 non-null float64\n",
      "ArahAngin9am                101172 non-null object\n",
      "ArahAngin3pm                105898 non-null object\n",
      "KecepatanAngin9am           109095 non-null float64\n",
      "KecepatanAngin3pm           109095 non-null float64\n",
      "Kelembaban9am               109095 non-null float64\n",
      "Kelembaban3pm               109095 non-null float64\n",
      "Tekanan9am                  109095 non-null float64\n",
      "Tekanan3pm                  109095 non-null float64\n",
      "Awan9am                     109095 non-null float64\n",
      "Awan3pm                     109095 non-null float64\n",
      "Suhu9am                     109095 non-null float64\n",
      "Suhu3pm                     109095 non-null float64\n",
      "BersaljuHariIni             109095 non-null int32\n",
      "BersaljuBesok               109095 non-null int32\n",
      "dtypes: float64(16), int32(2), object(3)\n",
      "memory usage: 16.6+ MB\n"
     ]
    }
   ],
   "source": [
    "# Menghapus kolom yang tidak akan digunakan dalam pemodelan\n",
    "data_train_salju.drop(['id', 'Tanggal', 'KodeLokasi'], axis=1, inplace=True)\n",
    "data_train_salju.info()"
   ]
  },
  {
   "cell_type": "code",
   "execution_count": 13,
   "metadata": {},
   "outputs": [
    {
     "data": {
      "text/plain": [
       "<matplotlib.axes._subplots.AxesSubplot at 0x279ac3b0148>"
      ]
     },
     "execution_count": 13,
     "metadata": {},
     "output_type": "execute_result"
    },
    {
     "data": {
      "image/png": "[encoded data removed]",
      "text/plain": [
       "<Figure size 2160x1440 with 1 Axes>"
      ]
     },
     "metadata": {
      "needs_background": "light"
     },
     "output_type": "display_data"
    }
   ],
   "source": [
    "plt.figure(figsize=(30, 20))\n",
    "sns.boxplot(data=data_train_salju, orient='h')"
   ]
  },
  {
   "cell_type": "code",
   "execution_count": null,
   "metadata": {},
   "outputs": [],
   "source": [
    "# Handle Outlier\n"
   ]
  },
  {
   "cell_type": "code",
   "execution_count": 14,
   "metadata": {},
   "outputs": [
    {
     "data": {
      "text/html": [
       "<div>\n",
       "<style scoped>\n",
       "    .dataframe tbody tr th:only-of-type {\n",
       "        vertical-align: middle;\n",
       "    }\n",
       "\n",
       "    .dataframe tbody tr th {\n",
       "        vertical-align: top;\n",
       "    }\n",
       "\n",
       "    .dataframe thead th {\n",
       "        text-align: right;\n",
       "    }\n",
       "</style>\n",
       "<table border=\"1\" class=\"dataframe\">\n",
       "  <thead>\n",
       "    <tr style=\"text-align: right;\">\n",
       "      <th></th>\n",
       "      <th>SuhuMin</th>\n",
       "      <th>SuhuMax</th>\n",
       "      <th>Hujan</th>\n",
       "      <th>Penguapan</th>\n",
       "      <th>SinarMatahari</th>\n",
       "      <th>KecepatanAnginTerkencang</th>\n",
       "      <th>KecepatanAngin9am</th>\n",
       "      <th>KecepatanAngin3pm</th>\n",
       "      <th>Kelembaban9am</th>\n",
       "      <th>Kelembaban3pm</th>\n",
       "      <th>...</th>\n",
       "      <th>ArahAngin3pm_NNW</th>\n",
       "      <th>ArahAngin3pm_NW</th>\n",
       "      <th>ArahAngin3pm_S</th>\n",
       "      <th>ArahAngin3pm_SE</th>\n",
       "      <th>ArahAngin3pm_SSE</th>\n",
       "      <th>ArahAngin3pm_SSW</th>\n",
       "      <th>ArahAngin3pm_SW</th>\n",
       "      <th>ArahAngin3pm_W</th>\n",
       "      <th>ArahAngin3pm_WNW</th>\n",
       "      <th>ArahAngin3pm_WSW</th>\n",
       "    </tr>\n",
       "  </thead>\n",
       "  <tbody>\n",
       "    <tr>\n",
       "      <td>0</td>\n",
       "      <td>10.4</td>\n",
       "      <td>15.5</td>\n",
       "      <td>4.8</td>\n",
       "      <td>5.46244</td>\n",
       "      <td>7.599527</td>\n",
       "      <td>24.000000</td>\n",
       "      <td>0.0</td>\n",
       "      <td>13.0</td>\n",
       "      <td>78.0</td>\n",
       "      <td>76.0</td>\n",
       "      <td>...</td>\n",
       "      <td>0</td>\n",
       "      <td>0</td>\n",
       "      <td>0</td>\n",
       "      <td>0</td>\n",
       "      <td>0</td>\n",
       "      <td>0</td>\n",
       "      <td>0</td>\n",
       "      <td>0</td>\n",
       "      <td>0</td>\n",
       "      <td>1</td>\n",
       "    </tr>\n",
       "    <tr>\n",
       "      <td>1</td>\n",
       "      <td>9.0</td>\n",
       "      <td>17.0</td>\n",
       "      <td>8.0</td>\n",
       "      <td>2.60000</td>\n",
       "      <td>7.400000</td>\n",
       "      <td>40.032002</td>\n",
       "      <td>13.0</td>\n",
       "      <td>20.0</td>\n",
       "      <td>80.0</td>\n",
       "      <td>61.0</td>\n",
       "      <td>...</td>\n",
       "      <td>0</td>\n",
       "      <td>0</td>\n",
       "      <td>0</td>\n",
       "      <td>0</td>\n",
       "      <td>0</td>\n",
       "      <td>0</td>\n",
       "      <td>0</td>\n",
       "      <td>0</td>\n",
       "      <td>1</td>\n",
       "      <td>0</td>\n",
       "    </tr>\n",
       "    <tr>\n",
       "      <td>2</td>\n",
       "      <td>18.2</td>\n",
       "      <td>32.0</td>\n",
       "      <td>0.0</td>\n",
       "      <td>5.46244</td>\n",
       "      <td>7.599527</td>\n",
       "      <td>44.000000</td>\n",
       "      <td>15.0</td>\n",
       "      <td>26.0</td>\n",
       "      <td>62.0</td>\n",
       "      <td>42.0</td>\n",
       "      <td>...</td>\n",
       "      <td>0</td>\n",
       "      <td>0</td>\n",
       "      <td>0</td>\n",
       "      <td>1</td>\n",
       "      <td>0</td>\n",
       "      <td>0</td>\n",
       "      <td>0</td>\n",
       "      <td>0</td>\n",
       "      <td>0</td>\n",
       "      <td>0</td>\n",
       "    </tr>\n",
       "  </tbody>\n",
       "</table>\n",
       "<p>3 rows × 66 columns</p>\n",
       "</div>"
      ],
      "text/plain": [
       "   SuhuMin  SuhuMax  Hujan  Penguapan  SinarMatahari  \\\n",
       "0     10.4     15.5    4.8    5.46244       7.599527   \n",
       "1      9.0     17.0    8.0    2.60000       7.400000   \n",
       "2     18.2     32.0    0.0    5.46244       7.599527   \n",
       "\n",
       "   KecepatanAnginTerkencang  KecepatanAngin9am  KecepatanAngin3pm  \\\n",
       "0                 24.000000                0.0               13.0   \n",
       "1                 40.032002               13.0               20.0   \n",
       "2                 44.000000               15.0               26.0   \n",
       "\n",
       "   Kelembaban9am  Kelembaban3pm  ...  ArahAngin3pm_NNW  ArahAngin3pm_NW  \\\n",
       "0           78.0           76.0  ...                 0                0   \n",
       "1           80.0           61.0  ...                 0                0   \n",
       "2           62.0           42.0  ...                 0                0   \n",
       "\n",
       "   ArahAngin3pm_S  ArahAngin3pm_SE  ArahAngin3pm_SSE  ArahAngin3pm_SSW  \\\n",
       "0               0                0                 0                 0   \n",
       "1               0                0                 0                 0   \n",
       "2               0                1                 0                 0   \n",
       "\n",
       "   ArahAngin3pm_SW  ArahAngin3pm_W  ArahAngin3pm_WNW  ArahAngin3pm_WSW  \n",
       "0                0               0                 0                 1  \n",
       "1                0               0                 1                 0  \n",
       "2                0               0                 0                 0  \n",
       "\n",
       "[3 rows x 66 columns]"
      ]
     },
     "execution_count": 14,
     "metadata": {},
     "output_type": "execute_result"
    }
   ],
   "source": [
    "data_train_salju = pd.get_dummies(data=data_train_salju,columns=['ArahAnginTerkencang','ArahAngin9am', 'ArahAngin3pm'])\n",
    "data_train_salju.head(3)"
   ]
  },
  {
   "cell_type": "code",
   "execution_count": 15,
   "metadata": {},
   "outputs": [
    {
     "data": {
      "text/plain": [
       "array([[0.44575472, 0.38963532, 0.01293801, ..., 0.        , 0.        ,\n",
       "        1.        ],\n",
       "       [0.41273585, 0.4184261 , 0.02156334, ..., 0.        , 1.        ,\n",
       "        0.        ],\n",
       "       [0.62971698, 0.70633397, 0.        , ..., 0.        , 0.        ,\n",
       "        0.        ],\n",
       "       ...,\n",
       "       [0.37735849, 0.48368522, 0.00431267, ..., 0.        , 0.        ,\n",
       "        0.        ],\n",
       "       [0.45518868, 0.66410749, 0.        , ..., 0.        , 0.        ,\n",
       "        0.        ],\n",
       "       [0.49056604, 0.61804223, 0.02425876, ..., 0.        , 0.        ,\n",
       "        0.        ]])"
      ]
     },
     "execution_count": 15,
     "metadata": {},
     "output_type": "execute_result"
    }
   ],
   "source": [
    "from sklearn.preprocessing import MinMaxScaler\n",
    "\n",
    "scaler = MinMaxScaler()\n",
    "minmax_train = scaler.fit_transform(data_train_salju)\n",
    "minmax_train"
   ]
  },
  {
   "cell_type": "markdown",
   "metadata": {},
   "source": [
    "### Permodelan"
   ]
  },
  {
   "cell_type": "code",
   "execution_count": 16,
   "metadata": {},
   "outputs": [],
   "source": [
    "from sklearn.model_selection import train_test_split\n",
    "\n",
    "X = data_train_salju.drop('BersaljuBesok',axis=1)\n",
    "y = data_train_salju['BersaljuBesok']\n",
    "X_train, X_valid, y_train, y_valid = train_test_split(X, y, test_size = 0.3, random_state=42)"
   ]
  },
  {
   "cell_type": "code",
   "execution_count": 17,
   "metadata": {},
   "outputs": [],
   "source": [
    "from sklearn.ensemble import RandomForestClassifier\n",
    "#from sklearn.tree import DecisionTreeClassifier"
   ]
  },
  {
   "cell_type": "code",
   "execution_count": 18,
   "metadata": {
    "scrolled": true
   },
   "outputs": [
    {
     "data": {
      "text/plain": [
       "RandomForestClassifier(bootstrap=True, class_weight=None, criterion='gini',\n",
       "                       max_depth=None, max_features='auto', max_leaf_nodes=None,\n",
       "                       min_impurity_decrease=0.0, min_impurity_split=None,\n",
       "                       min_samples_leaf=1, min_samples_split=2,\n",
       "                       min_weight_fraction_leaf=0.0, n_estimators=100,\n",
       "                       n_jobs=None, oob_score=False, random_state=None,\n",
       "                       verbose=0, warm_start=False)"
      ]
     },
     "execution_count": 18,
     "metadata": {},
     "output_type": "execute_result"
    }
   ],
   "source": [
    "model = RandomForestClassifier(n_estimators=100)\n",
    "model.fit(X_train,y_train)"
   ]
  },
  {
   "cell_type": "markdown",
   "metadata": {},
   "source": [
    "### Evaluation "
   ]
  },
  {
   "cell_type": "code",
   "execution_count": 19,
   "metadata": {},
   "outputs": [
    {
     "data": {
      "text/plain": [
       "0.9999083361705471"
      ]
     },
     "execution_count": 19,
     "metadata": {},
     "output_type": "execute_result"
    }
   ],
   "source": [
    "model.score(X_train,y_train)"
   ]
  },
  {
   "cell_type": "code",
   "execution_count": 20,
   "metadata": {},
   "outputs": [
    {
     "data": {
      "text/plain": [
       "0.852668886919857"
      ]
     },
     "execution_count": 20,
     "metadata": {},
     "output_type": "execute_result"
    }
   ],
   "source": [
    "model.score(X_valid,y_valid)"
   ]
  },
  {
   "cell_type": "code",
   "execution_count": 21,
   "metadata": {},
   "outputs": [],
   "source": [
    "# prediksi pada data test\n",
    "data_test_salju['BersaljuHariIni'] = (data_test_salju['BersaljuHariIni'] == 'Ya').astype(int)\n",
    "data_test_salju['BersaljuBesok'] = (data_test_salju['BersaljuBesok'] == 'Ya').astype(int)\n",
    "\n",
    "X_test = data_test_salju.drop('BersaljuBesok',axis=1)\n",
    "y_test = data_test_salju['BersaljuBesok']"
   ]
  },
  {
   "cell_type": "code",
   "execution_count": 22,
   "metadata": {},
   "outputs": [
    {
     "name": "stdout",
     "output_type": "stream",
     "text": [
      "<class 'pandas.core.frame.DataFrame'>\n",
      "RangeIndex: 18182 entries, 0 to 18181\n",
      "Data columns (total 67 columns):\n",
      "Tanggal                     18182 non-null object\n",
      "KodeLokasi                  18182 non-null object\n",
      "SuhuMin                     18017 non-null float64\n",
      "SuhuMax                     18017 non-null float64\n",
      "Hujan                       17795 non-null float64\n",
      "Penguapan                   10326 non-null float64\n",
      "SinarMatahari               9464 non-null float64\n",
      "KecepatanAnginTerkencang    16908 non-null float64\n",
      "KecepatanAngin9am           17984 non-null float64\n",
      "KecepatanAngin3pm           17828 non-null float64\n",
      "Kelembaban9am               17852 non-null float64\n",
      "Kelembaban3pm               17634 non-null float64\n",
      "Tekanan9am                  16317 non-null float64\n",
      "Tekanan3pm                  16329 non-null float64\n",
      "Awan9am                     11140 non-null float64\n",
      "Awan3pm                     10726 non-null float64\n",
      "Suhu9am                     17963 non-null float64\n",
      "Suhu3pm                     17740 non-null float64\n",
      "BersaljuHariIni             18182 non-null int32\n",
      "ArahAnginTerkencang_E       18182 non-null uint8\n",
      "ArahAnginTerkencang_ENE     18182 non-null uint8\n",
      "ArahAnginTerkencang_ESE     18182 non-null uint8\n",
      "ArahAnginTerkencang_N       18182 non-null uint8\n",
      "ArahAnginTerkencang_NE      18182 non-null uint8\n",
      "ArahAnginTerkencang_NNE     18182 non-null uint8\n",
      "ArahAnginTerkencang_NNW     18182 non-null uint8\n",
      "ArahAnginTerkencang_NW      18182 non-null uint8\n",
      "ArahAnginTerkencang_S       18182 non-null uint8\n",
      "ArahAnginTerkencang_SE      18182 non-null uint8\n",
      "ArahAnginTerkencang_SSE     18182 non-null uint8\n",
      "ArahAnginTerkencang_SSW     18182 non-null uint8\n",
      "ArahAnginTerkencang_SW      18182 non-null uint8\n",
      "ArahAnginTerkencang_W       18182 non-null uint8\n",
      "ArahAnginTerkencang_WNW     18182 non-null uint8\n",
      "ArahAnginTerkencang_WSW     18182 non-null uint8\n",
      "ArahAngin9am_E              18182 non-null uint8\n",
      "ArahAngin9am_ENE            18182 non-null uint8\n",
      "ArahAngin9am_ESE            18182 non-null uint8\n",
      "ArahAngin9am_N              18182 non-null uint8\n",
      "ArahAngin9am_NE             18182 non-null uint8\n",
      "ArahAngin9am_NNE            18182 non-null uint8\n",
      "ArahAngin9am_NNW            18182 non-null uint8\n",
      "ArahAngin9am_NW             18182 non-null uint8\n",
      "ArahAngin9am_S              18182 non-null uint8\n",
      "ArahAngin9am_SE             18182 non-null uint8\n",
      "ArahAngin9am_SSE            18182 non-null uint8\n",
      "ArahAngin9am_SSW            18182 non-null uint8\n",
      "ArahAngin9am_SW             18182 non-null uint8\n",
      "ArahAngin9am_W              18182 non-null uint8\n",
      "ArahAngin9am_WNW            18182 non-null uint8\n",
      "ArahAngin9am_WSW            18182 non-null uint8\n",
      "ArahAngin3pm_E              18182 non-null uint8\n",
      "ArahAngin3pm_ENE            18182 non-null uint8\n",
      "ArahAngin3pm_ESE            18182 non-null uint8\n",
      "ArahAngin3pm_N              18182 non-null uint8\n",
      "ArahAngin3pm_NE             18182 non-null uint8\n",
      "ArahAngin3pm_NNE            18182 non-null uint8\n",
      "ArahAngin3pm_NNW            18182 non-null uint8\n",
      "ArahAngin3pm_NW             18182 non-null uint8\n",
      "ArahAngin3pm_S              18182 non-null uint8\n",
      "ArahAngin3pm_SE             18182 non-null uint8\n",
      "ArahAngin3pm_SSE            18182 non-null uint8\n",
      "ArahAngin3pm_SSW            18182 non-null uint8\n",
      "ArahAngin3pm_SW             18182 non-null uint8\n",
      "ArahAngin3pm_W              18182 non-null uint8\n",
      "ArahAngin3pm_WNW            18182 non-null uint8\n",
      "ArahAngin3pm_WSW            18182 non-null uint8\n",
      "dtypes: float64(16), int32(1), object(2), uint8(48)\n",
      "memory usage: 3.4+ MB\n"
     ]
    }
   ],
   "source": [
    "X_test = pd.get_dummies(data=X_test, columns=['ArahAnginTerkencang','ArahAngin9am', 'ArahAngin3pm'])\n",
    "X_test.info()"
   ]
  },
  {
   "cell_type": "code",
   "execution_count": 23,
   "metadata": {},
   "outputs": [
    {
     "data": {
      "text/plain": [
       "Tanggal             0\n",
       "KodeLokasi          0\n",
       "SuhuMin             0\n",
       "SuhuMax             0\n",
       "Hujan               0\n",
       "                   ..\n",
       "ArahAngin3pm_SSW    0\n",
       "ArahAngin3pm_SW     0\n",
       "ArahAngin3pm_W      0\n",
       "ArahAngin3pm_WNW    0\n",
       "ArahAngin3pm_WSW    0\n",
       "Length: 67, dtype: int64"
      ]
     },
     "execution_count": 23,
     "metadata": {},
     "output_type": "execute_result"
    }
   ],
   "source": [
    "# Handling missing values dengan memberi nilai median dan rata-rata pada baris yang memiliki nilai null\n",
    "X_test['SuhuMin'].fillna(X_test['SuhuMin'].mean(), inplace=True)\n",
    "X_test['SuhuMax'].fillna(X_test['SuhuMax'].mean(), inplace=True)\n",
    "X_test['Hujan'].fillna(X_test['Hujan'].mean(), inplace=True)\n",
    "X_test['Penguapan'].fillna(X_test['Penguapan'].mean(), inplace=True)\n",
    "X_test['SinarMatahari'].fillna(X_test['SinarMatahari'].mean(), inplace=True)\n",
    "X_test['KecepatanAnginTerkencang'].fillna(X_test['KecepatanAnginTerkencang'].mean(), inplace=True)\n",
    "X_test['KecepatanAngin9am'].fillna(X_test['KecepatanAngin9am'].mean(), inplace=True)\n",
    "X_test['KecepatanAngin3pm'].fillna(X_test['KecepatanAngin3pm'].mean(), inplace=True)\n",
    "X_test['Kelembaban9am'].fillna(X_test['Kelembaban9am'].median(), inplace=True)\n",
    "X_test['Kelembaban3pm'].fillna(X_test['Kelembaban3pm'].median(), inplace=True)\n",
    "X_test['Tekanan9am'].fillna(X_test['Tekanan9am'].mean(), inplace=True)\n",
    "X_test['Tekanan3pm'].fillna(X_test['Tekanan3pm'].mean(), inplace=True)\n",
    "X_test['Awan9am'].fillna(X_test['Awan9am'].median(), inplace=True)\n",
    "X_test['Awan3pm'].fillna(X_test['Awan3pm'].median(), inplace=True)\n",
    "X_test['Suhu9am'].fillna(X_test['Suhu9am'].mean(), inplace=True)\n",
    "X_test['Suhu3pm'].fillna(X_test['Suhu3pm'].mean(), inplace=True)\n",
    "X_test.isnull().sum()"
   ]
  },
  {
   "cell_type": "code",
   "execution_count": 24,
   "metadata": {},
   "outputs": [],
   "source": [
    "# Menghapus kolom yang tidak akan digunakan dalam pemodelan\n",
    "X_test.drop(['Tanggal', 'KodeLokasi'], axis=1, inplace=True)"
   ]
  },
  {
   "cell_type": "code",
   "execution_count": 25,
   "metadata": {},
   "outputs": [],
   "source": [
    "from sklearn.preprocessing import MinMaxScaler\n",
    "\n",
    "scaler = MinMaxScaler()\n",
    "minmax_test = scaler.fit_transform(X_test)"
   ]
  },
  {
   "cell_type": "code",
   "execution_count": 26,
   "metadata": {},
   "outputs": [],
   "source": [
    "test_pred = model.predict(X_test)"
   ]
  },
  {
   "cell_type": "code",
   "execution_count": 27,
   "metadata": {},
   "outputs": [
    {
     "data": {
      "text/plain": [
       "0.8738862611373887"
      ]
     },
     "execution_count": 27,
     "metadata": {},
     "output_type": "execute_result"
    }
   ],
   "source": [
    "model.score(X_test,y_test)"
   ]
  },
  {
   "cell_type": "code",
   "execution_count": 28,
   "metadata": {},
   "outputs": [
    {
     "ename": "SyntaxError",
     "evalue": "invalid syntax (<ipython-input-28-4ccdce61a43e>, line 1)",
     "output_type": "error",
     "traceback": [
      "\u001b[1;36m  File \u001b[1;32m\"<ipython-input-28-4ccdce61a43e>\"\u001b[1;36m, line \u001b[1;32m1\u001b[0m\n\u001b[1;33m    output = pd.DataFrame({'': data_test_salju[], 'BersaljuBesok': test_pred})\u001b[0m\n\u001b[1;37m                                               ^\u001b[0m\n\u001b[1;31mSyntaxError\u001b[0m\u001b[1;31m:\u001b[0m invalid syntax\n"
     ]
    }
   ],
   "source": [
    "output = pd.DataFrame({'': data_test_salju[], 'BersaljuBesok': test_pred})\n",
    "output.to_csv(\" .csv\", index=False)"
   ]
  },
  {
   "cell_type": "markdown",
   "metadata": {},
   "source": [
    "### Experimen "
   ]
  },
  {
   "cell_type": "code",
   "execution_count": null,
   "metadata": {},
   "outputs": [],
   "source": []
  },
  {
   "cell_type": "markdown",
   "metadata": {},
   "source": [
    "### Conclusion\n",
    "\n"
   ]
  },
  {
   "cell_type": "code",
   "execution_count": null,
   "metadata": {},
   "outputs": [],
   "source": []
  }
 ],
 "metadata": {
  "kernelspec": {
   "display_name": "Python 3",
   "language": "python",
   "name": "python3"
  },
  "language_info": {
   "codemirror_mode": {
    "name": "ipython",
    "version": 3
   },
   "file_extension": ".py",
   "mimetype": "text/x-python",
   "name": "python",
   "nbconvert_exporter": "python",
   "pygments_lexer": "ipython3",
   "version": "3.7.4"
  }
 },
 "nbformat": 4,
 "nbformat_minor": 4
}
