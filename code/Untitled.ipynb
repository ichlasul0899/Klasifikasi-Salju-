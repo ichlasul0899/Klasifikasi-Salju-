{
 "cells": [
  {
   "cell_type": "markdown",
   "metadata": {},
   "source": [
    "# **TUBES MACHINE LEARNING**\n",
    "Contributor\n",
    " * **ICHLASUL AMAL**\n",
    " * **RIZKYTA SHAYNA ANGELINE** "
   ]
  },
  {
   "cell_type": "markdown",
   "metadata": {},
   "source": [
    "## Preparation"
   ]
  },
  {
   "cell_type": "code",
   "execution_count": 20,
   "metadata": {},
   "outputs": [
    {
     "name": "stdout",
     "output_type": "stream",
     "text": [
      "Info All Package version!\n",
      "Pandas Version : 1.1.3\n",
      "Numpy Version : 1.19.2\n",
      "Seaborn Version : 0.11.0\n"
     ]
    }
   ],
   "source": [
    "# Import All Package\n",
    "import os\n",
    "import pandas as pd\n",
    "import numpy as np\n",
    "import seaborn as sns\n",
    "import matplotlib.pyplot as plt\n",
    "\n",
    "\n",
    "# Show Info\n",
    "print('Info All Package version!')\n",
    "print('Pandas Version : {}'.format(pd.__version__))\n",
    "print('Numpy Version : {}'.format(np.__version__))\n",
    "print('Seaborn Version : {}'.format(sns.__version__))"
   ]
  },
  {
   "cell_type": "code",
   "execution_count": 17,
   "metadata": {},
   "outputs": [
    {
     "name": "stdout",
     "output_type": "stream",
     "text": [
      "Datasets :\n",
      "Dataset Salju Not Available\n"
     ]
    }
   ],
   "source": [
    "#Check Dataset\n",
    "print('Datasets :')\n",
    "datasetSalju = False\n",
    "datasets = os.listdir('../datasets/')\n",
    "for dataset in datasets:\n",
    "    if dataset[-3:] == 'csv':\n",
    "        if dataset[:5] == 'salju':\n",
    "            datasetSalju = True\n",
    "        print('\\t',x)\n",
    "if datasetSalju :\n",
    "    print('\\nDataset Salju Available')\n",
    "else :\n",
    "    print('Dataset Salju Not Available')"
   ]
  },
  {
   "cell_type": "markdown",
   "metadata": {},
   "source": [
    "## Start to code!"
   ]
  },
  {
   "cell_type": "code",
   "execution_count": 27,
   "metadata": {},
   "outputs": [
    {
     "name": "stdout",
     "output_type": "stream",
     "text": [
      "Jumlah data train salju : (109095, 24)\n",
      "Jumlah data test salju : (18182, 23)\n"
     ]
    }
   ],
   "source": [
    "#Read Dataset\n",
    "data_train_salju = pd.read_csv('../datasets/salju_train.csv')\n",
    "data_test_salju = pd.read_csv('../datasets/salju_test.csv')\n",
    "print(\"Jumlah data train salju : {}\".format(data_train_salju.shape))\n",
    "print(\"Jumlah data test salju : {}\".format(data_test_salju.shape))"
   ]
  },
  {
   "cell_type": "markdown",
   "metadata": {},
   "source": [
    "### Data Exploration & Preparation"
   ]
  },
  {
   "cell_type": "code",
   "execution_count": null,
   "metadata": {},
   "outputs": [],
   "source": []
  },
  {
   "cell_type": "markdown",
   "metadata": {},
   "source": [
    "### Permodelan"
   ]
  },
  {
   "cell_type": "code",
   "execution_count": null,
   "metadata": {},
   "outputs": [],
   "source": []
  },
  {
   "cell_type": "markdown",
   "metadata": {},
   "source": [
    "### Evaluation "
   ]
  },
  {
   "cell_type": "code",
   "execution_count": null,
   "metadata": {},
   "outputs": [],
   "source": []
  },
  {
   "cell_type": "markdown",
   "metadata": {},
   "source": [
    "### Experimen "
   ]
  },
  {
   "cell_type": "code",
   "execution_count": null,
   "metadata": {},
   "outputs": [],
   "source": []
  },
  {
   "cell_type": "markdown",
   "metadata": {},
   "source": [
    "### Conclussion"
   ]
  },
  {
   "cell_type": "code",
   "execution_count": null,
   "metadata": {},
   "outputs": [],
   "source": []
  }
 ],
 "metadata": {
  "kernelspec": {
   "display_name": "Python 3",
   "language": "python",
   "name": "python3"
  },
  "language_info": {
   "codemirror_mode": {
    "name": "ipython",
    "version": 3
   },
   "file_extension": ".py",
   "mimetype": "text/x-python",
   "name": "python",
   "nbconvert_exporter": "python",
   "pygments_lexer": "ipython3",
   "version": "3.8.5"
  }
 },
 "nbformat": 4,
 "nbformat_minor": 4
}
